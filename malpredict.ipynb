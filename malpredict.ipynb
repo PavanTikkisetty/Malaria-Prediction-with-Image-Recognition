{
 "cells": [
  {
   "cell_type": "code",
   "execution_count": 1,
   "metadata": {},
   "outputs": [
    {
     "name": "stderr",
     "output_type": "stream",
     "text": [
      "Using TensorFlow backend.\n"
     ]
    }
   ],
   "source": [
    "#import  keras libraries              \n",
    "from keras.models import Sequential      \n",
    "from keras.layers import Dense \n",
    "from keras.layers import Conv2D\n",
    "from keras.layers import MaxPooling2D\n",
    "from keras.layers import Flatten "
   ]
  },
  {
   "cell_type": "code",
   "execution_count": 2,
   "metadata": {},
   "outputs": [],
   "source": [
    "#step 2 initializing \n",
    "model = Sequential()[]\n"
   ]
  },
  {
   "cell_type": "code",
   "execution_count": 3,
   "metadata": {},
   "outputs": [
    {
     "name": "stderr",
     "output_type": "stream",
     "text": [
      "C:\\ProgramData\\Anaconda3\\lib\\site-packages\\ipykernel_launcher.py:1: UserWarning: Update your `Conv2D` call to the Keras 2 API: `Conv2D(32, (2, 2), input_shape=(128, 128,..., activation=\"relu\")`\n",
      "  \"\"\"Entry point for launching an IPython kernel.\n"
     ]
    },
    {
     "name": "stdout",
     "output_type": "stream",
     "text": [
      "WARNING:tensorflow:From C:\\ProgramData\\Anaconda3\\lib\\site-packages\\tensorflow\\python\\framework\\op_def_library.py:263: colocate_with (from tensorflow.python.framework.ops) is deprecated and will be removed in a future version.\n",
      "Instructions for updating:\n",
      "Colocations handled automatically by placer.\n"
     ]
    }
   ],
   "source": [
    "model.add(Conv2D(32,2,2,input_shape=(128,128,3),activation='relu'))  #step 3 # Add Convolution Layer"
   ]
  },
  {
   "cell_type": "code",
   "execution_count": 4,
   "metadata": {},
   "outputs": [],
   "source": [
    "model.add(MaxPooling2D(pool_size=(2,2)))  #Add Pooling Layer"
   ]
  },
  {
   "cell_type": "code",
   "execution_count": 5,
   "metadata": {},
   "outputs": [],
   "source": [
    "model.add(Flatten())    #Add flattening layer"
   ]
  },
  {
   "cell_type": "code",
   "execution_count": 6,
   "metadata": {},
   "outputs": [
    {
     "name": "stderr",
     "output_type": "stream",
     "text": [
      "C:\\ProgramData\\Anaconda3\\lib\\site-packages\\ipykernel_launcher.py:1: UserWarning: Update your `Dense` call to the Keras 2 API: `Dense(activation=\"relu\", units=128, kernel_initializer=\"random_uniform\")`\n",
      "  \"\"\"Entry point for launching an IPython kernel.\n"
     ]
    }
   ],
   "source": [
    "model.add(Dense(output_dim=128,activation='relu',init='random_uniform'))   #Ann starts so need to add dense layers"
   ]
  },
  {
   "cell_type": "code",
   "execution_count": 7,
   "metadata": {},
   "outputs": [
    {
     "name": "stderr",
     "output_type": "stream",
     "text": [
      "C:\\ProgramData\\Anaconda3\\lib\\site-packages\\ipykernel_launcher.py:1: UserWarning: Update your `Dense` call to the Keras 2 API: `Dense(activation=\"sigmoid\", units=1, kernel_initializer=\"random_uniform\")`\n",
      "  \"\"\"Entry point for launching an IPython kernel.\n"
     ]
    }
   ],
   "source": [
    "model.add(Dense(output_dim=1,activation='sigmoid',init='random_uniform'))   #Adding Output layer"
   ]
  },
  {
   "cell_type": "code",
   "execution_count": 8,
   "metadata": {},
   "outputs": [],
   "source": [
    "model.compile(optimizer='adam',loss='binary_crossentropy',metrics=['accuracy'])   #compile the model"
   ]
  },
  {
   "cell_type": "code",
   "execution_count": 9,
   "metadata": {},
   "outputs": [],
   "source": [
    "from keras.preprocessing.image import ImageDataGenerator  #preprocess images"
   ]
  },
  {
   "cell_type": "code",
   "execution_count": 10,
   "metadata": {},
   "outputs": [],
   "source": [
    "train_datagen=ImageDataGenerator(rescale=1./255,shear_range=0.2,zoom_range=0.2,horizontal_flip=True)\n",
    "test_datagen=ImageDataGenerator(rescale=1./255)"
   ]
  },
  {
   "cell_type": "code",
   "execution_count": 11,
   "metadata": {},
   "outputs": [
    {
     "name": "stdout",
     "output_type": "stream",
     "text": [
      "Found 22118 images belonging to 2 classes.\n",
      "Found 5512 images belonging to 2 classes.\n"
     ]
    }
   ],
   "source": [
    "x_train = train_datagen.flow_from_directory(\"C:/Users/pavan/face recognition/cell_images/Training\",target_size=(128,128),batch_size=64,class_mode='binary')\n",
    "x_test = train_datagen.flow_from_directory(\"C:/Users/pavan/face recognition/cell_images/Testing\",target_size=(128,128),batch_size=64,class_mode='binary')\n"
   ]
  },
  {
   "cell_type": "code",
   "execution_count": 12,
   "metadata": {},
   "outputs": [
    {
     "name": "stdout",
     "output_type": "stream",
     "text": [
      "{'Parasitized': 0, 'Uninfected': 1}\n"
     ]
    }
   ],
   "source": [
    "print(x_train.class_indices)"
   ]
  },
  {
   "cell_type": "code",
   "execution_count": 13,
   "metadata": {},
   "outputs": [
    {
     "name": "stdout",
     "output_type": "stream",
     "text": [
      "WARNING:tensorflow:From C:\\ProgramData\\Anaconda3\\lib\\site-packages\\tensorflow\\python\\ops\\math_ops.py:3066: to_int32 (from tensorflow.python.ops.math_ops) is deprecated and will be removed in a future version.\n",
      "Instructions for updating:\n",
      "Use tf.cast instead.\n"
     ]
    },
    {
     "name": "stderr",
     "output_type": "stream",
     "text": [
      "C:\\ProgramData\\Anaconda3\\lib\\site-packages\\ipykernel_launcher.py:1: UserWarning: The semantics of the Keras 2 argument `steps_per_epoch` is not the same as the Keras 1 argument `samples_per_epoch`. `steps_per_epoch` is the number of batches to draw from the generator at each epoch. Basically steps_per_epoch = samples_per_epoch/batch_size. Similarly `nb_val_samples`->`validation_steps` and `val_samples`->`steps` arguments have changed. Update your method calls accordingly.\n",
      "  \"\"\"Entry point for launching an IPython kernel.\n",
      "C:\\ProgramData\\Anaconda3\\lib\\site-packages\\ipykernel_launcher.py:1: UserWarning: Update your `fit_generator` call to the Keras 2 API: `fit_generator(<keras_pre..., epochs=50, validation_data=<keras_pre..., steps_per_epoch=5, validation_steps=200)`\n",
      "  \"\"\"Entry point for launching an IPython kernel.\n"
     ]
    },
    {
     "name": "stdout",
     "output_type": "stream",
     "text": [
      "Epoch 1/50\n",
      "5/5 [==============================] - 379s 76s/step - loss: 1.8154 - acc: 0.4969 - val_loss: 0.8719 - val_acc: 0.5020\n",
      "Epoch 2/50\n",
      "5/5 [==============================] - 349s 70s/step - loss: 0.8381 - acc: 0.5000 - val_loss: 0.7057 - val_acc: 0.5046\n",
      "Epoch 3/50\n",
      "5/5 [==============================] - 505s 101s/step - loss: 0.7427 - acc: 0.4844 - val_loss: 0.6847 - val_acc: 0.5323\n",
      "Epoch 4/50\n",
      "5/5 [==============================] - 345s 69s/step - loss: 0.6854 - acc: 0.5344 - val_loss: 0.6847 - val_acc: 0.5578\n",
      "Epoch 5/50\n",
      "5/5 [==============================] - 332s 66s/step - loss: 0.6591 - acc: 0.6281 - val_loss: 0.7166 - val_acc: 0.5300\n",
      "Epoch 6/50\n",
      "5/5 [==============================] - 319s 64s/step - loss: 0.6492 - acc: 0.6562 - val_loss: 0.6862 - val_acc: 0.5492\n",
      "Epoch 7/50\n",
      "5/5 [==============================] - 314s 63s/step - loss: 0.6271 - acc: 0.6500 - val_loss: 0.6931 - val_acc: 0.5424\n",
      "Epoch 8/50\n",
      "5/5 [==============================] - 318s 64s/step - loss: 0.6299 - acc: 0.6500 - val_loss: 0.7320 - val_acc: 0.5395\n",
      "Epoch 9/50\n",
      "5/5 [==============================] - 320s 64s/step - loss: 0.6136 - acc: 0.6781 - val_loss: 0.7018 - val_acc: 0.5593\n",
      "Epoch 10/50\n",
      "5/5 [==============================] - 318s 64s/step - loss: 0.6422 - acc: 0.6594 - val_loss: 0.7240 - val_acc: 0.5442\n",
      "Epoch 11/50\n",
      "5/5 [==============================] - 313s 63s/step - loss: 0.6190 - acc: 0.6719 - val_loss: 0.7027 - val_acc: 0.5639\n",
      "Epoch 12/50\n",
      "5/5 [==============================] - 315s 63s/step - loss: 0.6426 - acc: 0.6375 - val_loss: 0.7271 - val_acc: 0.5507\n",
      "Epoch 13/50\n",
      "5/5 [==============================] - 314s 63s/step - loss: 0.6560 - acc: 0.6063 - val_loss: 0.7038 - val_acc: 0.5675\n",
      "Epoch 14/50\n",
      "5/5 [==============================] - 315s 63s/step - loss: 0.6028 - acc: 0.6875 - val_loss: 0.7091 - val_acc: 0.5563\n",
      "Epoch 15/50\n",
      "5/5 [==============================] - 317s 63s/step - loss: 0.6095 - acc: 0.6969 - val_loss: 0.7088 - val_acc: 0.5582\n",
      "Epoch 16/50\n",
      "5/5 [==============================] - 343s 69s/step - loss: 0.6073 - acc: 0.6937 - val_loss: 0.7195 - val_acc: 0.5530\n",
      "Epoch 17/50\n",
      "5/5 [==============================] - 320s 64s/step - loss: 0.6577 - acc: 0.6125 - val_loss: 0.7271 - val_acc: 0.5611\n",
      "Epoch 18/50\n",
      "5/5 [==============================] - 316s 63s/step - loss: 0.6038 - acc: 0.6656 - val_loss: 0.7415 - val_acc: 0.5586\n",
      "Epoch 19/50\n",
      "5/5 [==============================] - 314s 63s/step - loss: 0.6576 - acc: 0.6375 - val_loss: 0.7284 - val_acc: 0.5650\n",
      "Epoch 20/50\n",
      "5/5 [==============================] - 313s 63s/step - loss: 0.6175 - acc: 0.6656 - val_loss: 0.7600 - val_acc: 0.5616\n",
      "Epoch 21/50\n",
      "5/5 [==============================] - 312s 62s/step - loss: 0.6116 - acc: 0.6969 - val_loss: 0.7391 - val_acc: 0.5657\n",
      "Epoch 22/50\n",
      "5/5 [==============================] - 314s 63s/step - loss: 0.5970 - acc: 0.6813 - val_loss: 0.7525 - val_acc: 0.5541\n",
      "Epoch 23/50\n",
      "5/5 [==============================] - 312s 62s/step - loss: 0.6406 - acc: 0.6406 - val_loss: 0.7334 - val_acc: 0.5678\n",
      "Epoch 24/50\n",
      "5/5 [==============================] - 312s 62s/step - loss: 0.6041 - acc: 0.6813 - val_loss: 0.7308 - val_acc: 0.5639\n",
      "Epoch 25/50\n",
      "5/5 [==============================] - 312s 62s/step - loss: 0.5881 - acc: 0.7031 - val_loss: 0.7266 - val_acc: 0.5674\n",
      "Epoch 26/50\n",
      "5/5 [==============================] - 312s 62s/step - loss: 0.6152 - acc: 0.6625 - val_loss: 0.7280 - val_acc: 0.5718\n",
      "Epoch 27/50\n",
      "5/5 [==============================] - 311s 62s/step - loss: 0.5833 - acc: 0.7156 - val_loss: 0.7353 - val_acc: 0.5731\n",
      "Epoch 28/50\n",
      "5/5 [==============================] - 311s 62s/step - loss: 0.5848 - acc: 0.6813 - val_loss: 0.7551 - val_acc: 0.5671\n",
      "Epoch 29/50\n",
      "5/5 [==============================] - 312s 62s/step - loss: 0.5836 - acc: 0.7062 - val_loss: 0.7723 - val_acc: 0.5516\n",
      "Epoch 30/50\n",
      "5/5 [==============================] - 312s 62s/step - loss: 0.6030 - acc: 0.6906 - val_loss: 0.7490 - val_acc: 0.5737\n",
      "Epoch 31/50\n",
      "5/5 [==============================] - 312s 62s/step - loss: 0.5704 - acc: 0.7000 - val_loss: 0.7651 - val_acc: 0.5668\n",
      "Epoch 32/50\n",
      "5/5 [==============================] - 311s 62s/step - loss: 0.5926 - acc: 0.7031 - val_loss: 0.7791 - val_acc: 0.5712\n",
      "Epoch 33/50\n",
      "5/5 [==============================] - 311s 62s/step - loss: 0.5912 - acc: 0.7062 - val_loss: 0.7446 - val_acc: 0.5717\n",
      "Epoch 34/50\n",
      "5/5 [==============================] - 310s 62s/step - loss: 0.5839 - acc: 0.6844 - val_loss: 0.7499 - val_acc: 0.5653\n",
      "Epoch 35/50\n",
      "5/5 [==============================] - 311s 62s/step - loss: 0.6281 - acc: 0.6594 - val_loss: 0.7392 - val_acc: 0.5761\n",
      "Epoch 36/50\n",
      "5/5 [==============================] - 312s 62s/step - loss: 0.6668 - acc: 0.6281 - val_loss: 0.7700 - val_acc: 0.5685\n",
      "Epoch 37/50\n",
      "5/5 [==============================] - 309s 62s/step - loss: 0.6262 - acc: 0.6781 - val_loss: 0.7325 - val_acc: 0.5747\n",
      "Epoch 38/50\n",
      "5/5 [==============================] - 311s 62s/step - loss: 0.6409 - acc: 0.6594 - val_loss: 0.7293 - val_acc: 0.5733\n",
      "Epoch 39/50\n",
      "5/5 [==============================] - 310s 62s/step - loss: 0.5940 - acc: 0.7062 - val_loss: 0.7097 - val_acc: 0.5776\n",
      "Epoch 40/50\n",
      "5/5 [==============================] - 310s 62s/step - loss: 0.5858 - acc: 0.6969 - val_loss: 0.7194 - val_acc: 0.5683\n",
      "Epoch 41/50\n",
      "5/5 [==============================] - 308s 62s/step - loss: 0.5905 - acc: 0.7062 - val_loss: 0.7329 - val_acc: 0.5711\n",
      "Epoch 42/50\n",
      "5/5 [==============================] - 310s 62s/step - loss: 0.6301 - acc: 0.6625 - val_loss: 0.7391 - val_acc: 0.5681\n",
      "Epoch 43/50\n",
      "5/5 [==============================] - 309s 62s/step - loss: 0.6226 - acc: 0.6844 - val_loss: 0.7183 - val_acc: 0.5772\n",
      "Epoch 44/50\n",
      "5/5 [==============================] - 310s 62s/step - loss: 0.6011 - acc: 0.6781 - val_loss: 0.7241 - val_acc: 0.5832\n",
      "Epoch 45/50\n",
      "5/5 [==============================] - 312s 62s/step - loss: 0.5662 - acc: 0.6937 - val_loss: 0.7218 - val_acc: 0.5774\n",
      "Epoch 46/50\n",
      "5/5 [==============================] - 310s 62s/step - loss: 0.6214 - acc: 0.6562 - val_loss: 0.7313 - val_acc: 0.5671\n",
      "Epoch 47/50\n",
      "5/5 [==============================] - 309s 62s/step - loss: 0.5738 - acc: 0.7125 - val_loss: 0.7503 - val_acc: 0.5757\n",
      "Epoch 48/50\n",
      "5/5 [==============================] - 309s 62s/step - loss: 0.5809 - acc: 0.7000 - val_loss: 0.7231 - val_acc: 0.5795\n",
      "Epoch 49/50\n",
      "5/5 [==============================] - 310s 62s/step - loss: 0.5503 - acc: 0.7375 - val_loss: 0.7297 - val_acc: 0.5887\n",
      "Epoch 50/50\n",
      "5/5 [==============================] - 310s 62s/step - loss: 0.5797 - acc: 0.7125 - val_loss: 0.7383 - val_acc: 0.5765\n"
     ]
    },
    {
     "data": {
      "text/plain": [
       "<keras.callbacks.History at 0x24d6d668588>"
      ]
     },
     "execution_count": 13,
     "metadata": {},
     "output_type": "execute_result"
    }
   ],
   "source": [
    "model.fit_generator(x_train, samples_per_epoch=345,epochs=50,validation_data=x_test,nb_val_samples=200)"
   ]
  },
  {
   "cell_type": "code",
   "execution_count": 14,
   "metadata": {},
   "outputs": [],
   "source": [
    "model.save('malaria.h5') #this will save the weights, for keras h5 extension"
   ]
  },
  {
   "cell_type": "code",
   "execution_count": 15,
   "metadata": {},
   "outputs": [],
   "source": [
    "from keras.models import load_model\n",
    "import numpy as np\n",
    "import cv2\n",
    "model = load_model('malaria.h5')"
   ]
  },
  {
   "cell_type": "code",
   "execution_count": 16,
   "metadata": {},
   "outputs": [],
   "source": [
    "model.compile(optimizer='adam',loss='binary_crossentropy',metrics=['accuracy'])"
   ]
  },
  {
   "cell_type": "code",
   "execution_count": 17,
   "metadata": {},
   "outputs": [],
   "source": [
    "from skimage.transform import resize      #\n",
    "def detect(frame):\n",
    "    try:\n",
    "        img = resize(frame,(128,128))\n",
    "        img = np.expand_dims(img,axis=0)\n",
    "        if(np.max(img)>1):\n",
    "            img = img/255.0\n",
    "        prediction_class = model.predict(img)\n",
    "        print(prediction_class)\n",
    "        prediction_class = model.predict_classes(img)\n",
    "        print(prediction_class)\n",
    "    except AttributeError:\n",
    "        print(\"shape not found\")"
   ]
  },
  {
   "cell_type": "code",
   "execution_count": 27,
   "metadata": {},
   "outputs": [
    {
     "name": "stdout",
     "output_type": "stream",
     "text": [
      "[[0.54807836]]\n",
      "[[1]]\n"
     ]
    }
   ],
   "source": [
    "frame = cv2.imread(\"infected2.png \")    #giving input\n",
    "data = detect(frame) "
   ]
  },
  {
   "cell_type": "code",
   "execution_count": null,
   "metadata": {},
   "outputs": [],
   "source": []
  }
 ],
 "metadata": {
  "kernelspec": {
   "display_name": "Python 3",
   "language": "python",
   "name": "python3"
  },
  "language_info": {
   "codemirror_mode": {
    "name": "ipython",
    "version": 3
   },
   "file_extension": ".py",
   "mimetype": "text/x-python",
   "name": "python",
   "nbconvert_exporter": "python",
   "pygments_lexer": "ipython3",
   "version": "3.7.3"
  }
 },
 "nbformat": 4,
 "nbformat_minor": 2
}
