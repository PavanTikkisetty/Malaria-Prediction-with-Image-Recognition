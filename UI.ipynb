{
 "cells": [
  {
   "cell_type": "code",
   "execution_count": 23,
   "metadata": {},
   "outputs": [
    {
     "name": "stdout",
     "output_type": "stream",
     "text": [
      "[[1]]\n",
      "Uninfected\n"
     ]
    },
    {
     "name": "stderr",
     "output_type": "stream",
     "text": [
      "Exception in Tkinter callback\n",
      "Traceback (most recent call last):\n",
      "  File \"C:\\ProgramData\\Anaconda3\\lib\\tkinter\\__init__.py\", line 1705, in __call__\n",
      "    return self.func(*args)\n",
      "  File \"<ipython-input-23-1b553bb7f4e2>\", line 35, in open_img\n",
      "    label = Label( root, text=\"Prediction : \"+str(index[result[0]]))\n",
      "TypeError: only integer scalar arrays can be converted to a scalar index\n"
     ]
    }
   ],
   "source": [
    "import numpy as np\n",
    "from keras.preprocessing import image\n",
    "\n",
    "from tkinter import *\n",
    "from PIL import ImageTk, Image\n",
    "from tkinter import filedialog\n",
    "import os\n",
    "val = ''\n",
    "from keras.models import load_model\n",
    "classifier = load_model('malaria.h5')\n",
    "classifier.compile(optimizer = 'adam', loss = 'binary_crossentropy', metrics = ['accuracy'])\n",
    "root = Tk()\n",
    "root.geometry(\"550x300+300+150\")\n",
    "root.resizable(width=True, height=True)\n",
    "\n",
    "def openfn():\n",
    "    filename = filedialog.askopenfilename(title='open')\n",
    "    return filename\n",
    "def open_img():\n",
    "    x = openfn()\n",
    "    test_image = image.load_img(x, target_size = (128, 128))\n",
    "    test_image = image.img_to_array(test_image)\n",
    "    test_image = np.expand_dims(test_image, axis = 0)\n",
    "    result = classifier.predict_classes(test_image)\n",
    "    print(result)\n",
    "    index=['parasitized','uninfected']\n",
    "    val=''\n",
    "    if((result == [0])):\n",
    "        val = \"Parasitized\"\n",
    "        print(\"Parasitized\")\n",
    "    else:\n",
    "        val = \"Uninfected\"\n",
    "        print(\"Uninfected\") \n",
    "        \n",
    "    label = Label( root, text=\"Prediction : \"+str(index[result[0]]))\n",
    "    label.pack()\n",
    "    label1 = Label( root, text=\"Acessed By : \"+val)\n",
    "    label1.pack()\n",
    "    \n",
    "    img = Image.open(x)\n",
    "    img = img.resize((250, 250), Image.ANTIALIAS)\n",
    "    img = ImageTk.PhotoImage(img)\n",
    "    panel = Label(root, image=img)\n",
    "    panel.image = img\n",
    "    panel.pack()\n",
    "btn = Button(root, text='open image', command=open_img).pack()\n",
    "\n",
    "\n",
    "\n",
    "root.mainloop()"
   ]
  },
  {
   "cell_type": "code",
   "execution_count": 2,
   "metadata": {},
   "outputs": [
    {
     "data": {
      "text/plain": [
       "'C:\\\\Users\\\\pavan\\\\face recognition'"
      ]
     },
     "execution_count": 2,
     "metadata": {},
     "output_type": "execute_result"
    }
   ],
   "source": [
    "pwd"
   ]
  },
  {
   "cell_type": "code",
   "execution_count": null,
   "metadata": {},
   "outputs": [],
   "source": []
  }
 ],
 "metadata": {
  "kernelspec": {
   "display_name": "Python 3",
   "language": "python",
   "name": "python3"
  },
  "language_info": {
   "codemirror_mode": {
    "name": "ipython",
    "version": 3
   },
   "file_extension": ".py",
   "mimetype": "text/x-python",
   "name": "python",
   "nbconvert_exporter": "python",
   "pygments_lexer": "ipython3",
   "version": "3.7.3"
  }
 },
 "nbformat": 4,
 "nbformat_minor": 2
}
